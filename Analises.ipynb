{
 "cells": [
  {
   "cell_type": "markdown",
   "id": "c07b6274-40e5-4f96-8e8e-19b6ae0e669b",
   "metadata": {},
   "source": [
    "## Bibliotecas"
   ]
  },
  {
   "cell_type": "code",
   "execution_count": null,
   "id": "201fe514-cacd-4fc2-b862-35b5663aa172",
   "metadata": {},
   "outputs": [],
   "source": [
    "import pandas as pd"
   ]
  },
  {
   "cell_type": "markdown",
   "id": "ced73198-1ee7-46f9-959d-1f87108a2668",
   "metadata": {},
   "source": [
    "## Leitura dos dados"
   ]
  },
  {
   "cell_type": "code",
   "execution_count": null,
   "id": "83d4474a-d8ba-4a91-8820-5508d9bda0cd",
   "metadata": {},
   "outputs": [],
   "source": [
    "intervalos = [50, 100, 500]\n",
    "metricas = \"calculate_degree_centrality,calculate_closeness_centrality,calculate_katz_centrality,calculate_eigenvector_centrality,calculate_betweenness_centrality\".split(\",\")\n",
    "df_final = pd.DataFrame()\n",
    "for intervalo in intervalos:\n",
    "    for metrica in metricas:\n",
    "        dados_max = pd.read_csv(f\"bk_results/{metrica}_{intervalo}.csv\")\n",
    "        max_v = dados_max[metrica].max()\n",
    "        vertice = dados_max[dados_max[metrica] == max_v].reset_index()[\"Unnamed: 0\"].values\n",
    "        dict_results = {\"intervalo\": intervalo, \"metrica\": metrica, \"max\": max_v, \"vertice\": vertice}\n",
    "        dados = pd.DataFrame(data=dict_results.values(), index=dict_results.keys()).T\n",
    "        df_final = pd.concat([df_final, dados])\n",
    "df_final.to_csv(\"final_values.csv\", index=False, sep=\";\")"
   ]
  }
 ],
 "metadata": {
  "kernelspec": {
   "display_name": "Python 3 (ipykernel)",
   "language": "python",
   "name": "python3"
  },
  "language_info": {
   "codemirror_mode": {
    "name": "ipython",
    "version": 3
   },
   "file_extension": ".py",
   "mimetype": "text/x-python",
   "name": "python",
   "nbconvert_exporter": "python",
   "pygments_lexer": "ipython3",
   "version": "3.8.17"
  }
 },
 "nbformat": 4,
 "nbformat_minor": 5
}
