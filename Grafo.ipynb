{
 "cells": [
  {
   "cell_type": "code",
   "execution_count": null,
   "id": "0574c59e-70d5-4310-9bc7-e8727c542bcf",
   "metadata": {},
   "outputs": [],
   "source": [
    "pip install networkx"
   ]
  },
  {
   "cell_type": "markdown",
   "id": "1d5ea489-3b6f-437c-815b-2c244166301d",
   "metadata": {},
   "source": [
    "## Bibliotecas"
   ]
  },
  {
   "cell_type": "code",
   "execution_count": null,
   "id": "e0e30ceb-aff2-4602-8a19-4bbb8177c3d3",
   "metadata": {},
   "outputs": [],
   "source": [
    "import networkx as nx\n",
    "import matplotlib.pyplot as plt\n",
    "import json\n",
    "import random\n",
    "import pandas as pd"
   ]
  },
  {
   "cell_type": "markdown",
   "id": "672c5d7e-40aa-44e1-ab80-799cd28eac4c",
   "metadata": {},
   "source": [
    "## Funções das métricas de centralidade"
   ]
  },
  {
   "cell_type": "code",
   "execution_count": null,
   "id": "02f703f0-5037-4d33-9b5e-bbfb2d45d26a",
   "metadata": {},
   "outputs": [],
   "source": [
    "def calculate_degree_centrality(G):\n",
    "    centrality = nx.degree_centrality(G)\n",
    "    return centrality\n",
    "\n",
    "def calculate_closeness_centrality(G):\n",
    "    centrality = nx.closeness_centrality(G)\n",
    "    return centrality\n",
    "\n",
    "def calculate_katz_centrality(G):\n",
    "    return nx.katz_centrality(G)\n",
    "\n",
    "def calculate_eigenvector_centrality(G):\n",
    "    return nx.eigenvector_centrality(G)\n",
    "\n",
    "def calculate_betweenness_centrality(G):\n",
    "    return nx.betweenness_centrality(G)\n"
   ]
  },
  {
   "cell_type": "markdown",
   "id": "d9ca0a27-51d3-4eb0-bb56-ed6558c59337",
   "metadata": {},
   "source": [
    "## Leitura dos dados"
   ]
  },
  {
   "cell_type": "code",
   "execution_count": null,
   "id": "d95a6e37-7b03-4493-8689-4fce9a6239d8",
   "metadata": {},
   "outputs": [],
   "source": [
    "data = json.load(open('./dict_relacoes.json'))\n",
    "amostras = [50, 100, 500]\n",
    "metrics = [calculate_degree_centrality, calculate_closeness_centrality,\n",
    "           calculate_katz_centrality, calculate_eigenvector_centrality,\n",
    "           calculate_betweenness_centrality]"
   ]
  },
  {
   "cell_type": "markdown",
   "id": "f3c1aa1b-3ae5-4160-9013-3bb7f8d0561c",
   "metadata": {},
   "source": [
    "## Execução"
   ]
  },
  {
   "cell_type": "code",
   "execution_count": null,
   "id": "0e014265-355c-4278-9084-abd561eb357f",
   "metadata": {},
   "outputs": [],
   "source": [
    "for k in amostras:\n",
    "    G = nx.Graph()\n",
    "    edges_final = list()\n",
    "    for chave in data.keys():\n",
    "        edges = data.get(chave, [])\n",
    "        edges_final.extend(edges)\n",
    "    random_edges = random.sample(edges_final, k=k)\n",
    "    for edge in random_edges:\n",
    "        if edge[0] != edge[1]:\n",
    "            G.add_edge(*edge)\n",
    "    dados_teste = {\"k\": k, \"nodes\": G.number_of_nodes(), \"edges\": G.number_of_edges()}\n",
    "    pd.DataFrame(data=dados_teste.values(), index=dados_teste.keys(), columns=[\"dados\"]).to_csv(f\"dados_teste_{k}.csv\")\n",
    "    for metrica in metrics:\n",
    "        try:\n",
    "            results = metrica(G)\n",
    "        except:\n",
    "            pass\n",
    "        else:\n",
    "            metrica = str(metrica).split(\" \")[1]\n",
    "            pd.DataFrame(data=results.values(), index=results.keys(), columns=[metrica]).to_csv(f\"{metrica}_{k}.csv\")\n",
    "            max_node = max(results, key=results.get)\n",
    "            neighbors = list(G.neighbors(max_node))\n",
    "\n",
    "            # Criar um subgrafo contendo apenas o vértice de maior grau e seus vizinhos\n",
    "            subgraph_nodes = [max_node] + neighbors\n",
    "            subgraph = G.subgraph(subgraph_nodes)\n",
    "            # Plotar o subgrafo\n",
    "            plt.figure(figsize=(8,8))\n",
    "\n",
    "            # Posicionamento dos nós do subgrafo\n",
    "            pos = nx.spring_layout(subgraph)\n",
    "\n",
    "            # Desenhar as arestas do subgrafo\n",
    "            nx.draw_networkx_edges(subgraph, pos, alpha=0.3)\n",
    "\n",
    "            # O tamanho dos nós será proporcional à centralidade de grau no subgrafo\n",
    "            node_size = [results[node] * 1000 for node in subgraph_nodes]\n",
    "            node_color = ['orange' if node == max_node else 'skyblue' for node in subgraph]\n",
    "\n",
    "            # Desenhar os nós do subgrafo\n",
    "            nx.draw_networkx_nodes(subgraph, pos, node_size=node_size, node_color=node_color, alpha=0.9)\n",
    "\n",
    "            # Criar os rótulos com os valores de centralidade\n",
    "            labels = {node: f\"{node}\\n\\n{results[node]:.3f}\" for node in subgraph_nodes}\n",
    "\n",
    "            # Desenhar os rótulos dos nós, incluindo os valores de centralidade\n",
    "            nx.draw_networkx_labels(subgraph, pos, labels=labels, font_size=10)\n",
    "\n",
    "            # Exibir o gráfico\n",
    "            plt.title(f\"Vértice de Maior Centralidade ({max_node}) e seus Vizinhos\")\n",
    "            plt.savefig(f\"{metrica}_{k}.png\")"
   ]
  }
 ],
 "metadata": {
  "kernelspec": {
   "display_name": "Python 3 (ipykernel)",
   "language": "python",
   "name": "python3"
  },
  "language_info": {
   "codemirror_mode": {
    "name": "ipython",
    "version": 3
   },
   "file_extension": ".py",
   "mimetype": "text/x-python",
   "name": "python",
   "nbconvert_exporter": "python",
   "pygments_lexer": "ipython3",
   "version": "3.8.17"
  }
 },
 "nbformat": 4,
 "nbformat_minor": 5
}
